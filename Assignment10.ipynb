{
 "cells": [
  {
   "cell_type": "code",
   "execution_count": 6,
   "id": "4d5dd4dd-25ae-4cde-9584-212abdbb5a98",
   "metadata": {},
   "outputs": [
    {
     "data": {
      "text/plain": [
       "('mt15', 180, 45)"
      ]
     },
     "execution_count": 6,
     "metadata": {},
     "output_type": "execute_result"
    }
   ],
   "source": [
    "\"\"\" Q1, Create a vehicle class with an init method having instance variables as name_of_vehicle, max_speed\n",
    "and average_of_vehicle. \"\"\"\n",
    "\n",
    "class Vehicle:\n",
    "    \n",
    "    def __init__(self, name_of_vehicle, max_speed, average_of_vehicle):\n",
    "        self.name_of_vehicle=name_of_vehicle\n",
    "        self.max_speed=max_speed\n",
    "        self.average_of_vehicle=average_of_vehicle\n",
    "        \n",
    "    def get(self):\n",
    "        return self.name_of_vehicle, self.max_speed, self.average_of_vehicle\n",
    "        \n",
    "bike=Vehicle(\"mt15\", 180, 45)\n",
    "bike.get()"
   ]
  },
  {
   "cell_type": "code",
   "execution_count": 20,
   "id": "3949c8ab-234f-4899-a8c5-396c9ebc110e",
   "metadata": {},
   "outputs": [
    {
     "data": {
      "text/plain": [
       "('lamborgini', 'seating capacity is 2')"
      ]
     },
     "execution_count": 20,
     "metadata": {},
     "output_type": "execute_result"
    }
   ],
   "source": [
    "\"\"\" Q2. Create a child class car from the vehicle class created in Que 1, which will inherit the vehicle class.\n",
    "Create a method named seating_capacity which takes capacity as an argument and returns the name of\n",
    "the vehicle and its seating capacity. \"\"\"\n",
    "\n",
    "class Car(Vehicle):\n",
    "    def seating_capacity(self, capacity):\n",
    "        self.capacity=capacity\n",
    "        return self.name_of_vehicle, self.capacity\n",
    "\n",
    "car=Car(\"lamborgini\", 221, 7)\n",
    "car.seating_capacity(\"seating capacity is 2\")"
   ]
  },
  {
   "cell_type": "code",
   "execution_count": 18,
   "id": "e6c3386a-a17e-457e-b60d-87cf4439702a",
   "metadata": {},
   "outputs": [
    {
     "data": {
      "text/plain": [
       "('Black Hair', 'White Face')"
      ]
     },
     "execution_count": 18,
     "metadata": {},
     "output_type": "execute_result"
    }
   ],
   "source": [
    "\"\"\" Q3. What is multiple inheritance? Write a python code to demonstrate multiple inheritance. \"\"\"\n",
    "\n",
    "# ans\n",
    "\"\"\" Multiple inheritance is a feature in object-oriented programming where a subclass can inherit from multiple superclasses.\n",
    "This means that a subclass can have characteristics and behaviors of multiple parent classes. \"\"\"\n",
    "\n",
    "class Father:\n",
    "    \n",
    "    def __init__(self, hair_color, face_color):\n",
    "        self.hair_color=hair_color\n",
    "        self.face_color=face_color\n",
    "        \n",
    "class Mother:\n",
    "        \n",
    "    def get(self):\n",
    "        return self.hair_color, self.face_color\n",
    "        \n",
    "class child(Father, Mother):\n",
    "    pass\n",
    "    \n",
    "shiry=child(\"Black Hair\",\"White Face\")\n",
    "shiry.get()"
   ]
  },
  {
   "cell_type": "code",
   "execution_count": 30,
   "id": "2c6ebea7-32fa-4bb1-967e-185dd75b5b21",
   "metadata": {},
   "outputs": [
    {
     "name": "stdout",
     "output_type": "stream",
     "text": [
      "rushi\n",
      "22\n"
     ]
    }
   ],
   "source": [
    "\"\"\" Q4. What are getter and setter in python? Create a class and create a getter and a setter method in this\n",
    "class. \"\"\"\n",
    "\n",
    "# ans\n",
    "\"\"\" Getter and Setter methods are a way of accessing and modifying the values of private attributes of a class in Python.\n",
    "These methods are also known as accessor and mutator methods respectively.\n",
    "A getter method allows us to retrieve the value of a private attribute, while a setter method allows us to modify the value of a private attribute. \"\"\"\n",
    "\n",
    "# example\n",
    "class Person:\n",
    "    def __init__(self, name, age):\n",
    "        self.__name = name  # private attribute\n",
    "        self.__age = age  # private attribute\n",
    "\n",
    "    def get_name(self):\n",
    "        return self.__name\n",
    "\n",
    "    def set_name(self, name):\n",
    "        self.__name = name\n",
    "\n",
    "    def get_age(self):\n",
    "        return self.__age\n",
    "\n",
    "    def set_age(self, age):\n",
    "        self.__age = age\n",
    "\n",
    "shiry=Person(\"shiri\",21)\n",
    "shiry.set_name(\"rushi\")\n",
    "print(shiry.get_name())\n",
    "shiry.set_age(22)\n",
    "print(shiry.get_age())"
   ]
  },
  {
   "cell_type": "code",
   "execution_count": 1,
   "id": "db45da79-41b0-4207-965f-a19709890dea",
   "metadata": {},
   "outputs": [
    {
     "name": "stdout",
     "output_type": "stream",
     "text": [
      "Animals make sound\n",
      "Bow bow...\n",
      "Animals make sound\n"
     ]
    }
   ],
   "source": [
    "\"\"\" Q5.What is method overriding in python? Write a python code to demonstrate method overriding. \"\"\"\n",
    "\n",
    "# ans\n",
    "\"\"\" Method overriding in Python is a mechanism where a subclass can provide its own implementation of a method that is already defined in its superclass.\n",
    "When the method is called on an instance of the subclass, the overridden method in the subclass is called instead of the original method in the superclass. \"\"\"\n",
    "\n",
    "class Animal:\n",
    "    \n",
    "    def sound(self):\n",
    "        print(\"Animals make sound\")\n",
    "        \n",
    "class Dog(Animal):\n",
    "    \n",
    "    def sound(self):\n",
    "        print(\"Bow bow...\")\n",
    "        \n",
    "class Wild_Animal(Animal):\n",
    "    pass\n",
    "        \n",
    "animal=Animal()\n",
    "animal.sound()\n",
    "dog=Dog()\n",
    "dog.sound()\n",
    "wild_animal=Wild_Animal()\n",
    "wild_animal.sound()"
   ]
  }
 ],
 "metadata": {
  "kernelspec": {
   "display_name": "Python 3 (ipykernel)",
   "language": "python",
   "name": "python3"
  },
  "language_info": {
   "codemirror_mode": {
    "name": "ipython",
    "version": 3
   },
   "file_extension": ".py",
   "mimetype": "text/x-python",
   "name": "python",
   "nbconvert_exporter": "python",
   "pygments_lexer": "ipython3",
   "version": "3.10.8"
  }
 },
 "nbformat": 4,
 "nbformat_minor": 5
}
